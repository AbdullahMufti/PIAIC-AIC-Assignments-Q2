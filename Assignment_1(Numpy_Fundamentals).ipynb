{
  "nbformat": 4,
  "nbformat_minor": 0,
  "metadata": {
    "colab": {
      "name": "Assignment#1(Numpy Fundamentals).ipynb",
      "provenance": [],
      "collapsed_sections": []
    },
    "kernelspec": {
      "display_name": "Python 3",
      "language": "python",
      "name": "python3"
    },
    "language_info": {
      "codemirror_mode": {
        "name": "ipython",
        "version": 3
      },
      "file_extension": ".py",
      "mimetype": "text/x-python",
      "name": "python",
      "nbconvert_exporter": "python",
      "pygments_lexer": "ipython3",
      "version": "3.8.3"
    }
  },
  "cells": [
    {
      "cell_type": "markdown",
      "metadata": {
        "id": "NgUeapcvmIRh"
      },
      "source": [
        "# **Assignment For Numpy**"
      ]
    },
    {
      "cell_type": "markdown",
      "metadata": {
        "id": "yhr3JicwnA-4"
      },
      "source": [
        "Difficulty Level **Beginner**"
      ]
    },
    {
      "cell_type": "markdown",
      "metadata": {
        "id": "hVPqDJ1SnKSh"
      },
      "source": [
        "1. Import the numpy package under the name np"
      ]
    },
    {
      "cell_type": "code",
      "metadata": {
        "id": "SePu31zKmgS-"
      },
      "source": [
        "import numpy as np"
      ],
      "execution_count": 3,
      "outputs": []
    },
    {
      "cell_type": "markdown",
      "metadata": {
        "id": "d0gO81krnL7g"
      },
      "source": [
        "2. Create a null vector of size 10 "
      ]
    },
    {
      "cell_type": "code",
      "metadata": {
        "id": "2s6o2JPgnSBr",
        "colab": {
          "base_uri": "https://localhost:8080/"
        },
        "outputId": "90065964-422b-4c93-80b3-a216c5aa08e2"
      },
      "source": [
        "Vec10=np.empty(10)\n",
        "print(Vec10)"
      ],
      "execution_count": null,
      "outputs": [
        {
          "output_type": "stream",
          "text": [
            "[3.1452393e-316 0.0000000e+000 0.0000000e+000 0.0000000e+000\n",
            " 0.0000000e+000 0.0000000e+000 0.0000000e+000 0.0000000e+000\n",
            " 0.0000000e+000 0.0000000e+000]\n"
          ],
          "name": "stdout"
        }
      ]
    },
    {
      "cell_type": "markdown",
      "metadata": {
        "id": "BJTMK03fnS1w"
      },
      "source": [
        "3. Create a vector with values ranging from 10 to 49"
      ]
    },
    {
      "cell_type": "code",
      "metadata": {
        "id": "qRXxXuWdnj1M"
      },
      "source": [
        "Vec10To49=np.array(range(10))"
      ],
      "execution_count": null,
      "outputs": []
    },
    {
      "cell_type": "markdown",
      "metadata": {
        "id": "n63lzg5Onkcn"
      },
      "source": [
        "4. Find the shape of previous array in question 3"
      ]
    },
    {
      "cell_type": "code",
      "metadata": {
        "id": "1FueBdqPn_q7",
        "colab": {
          "base_uri": "https://localhost:8080/"
        },
        "outputId": "d8d35204-1f90-43c3-a678-e041fae0cc17"
      },
      "source": [
        "print(\"Size of the array: \", Vec10To49.size)"
      ],
      "execution_count": null,
      "outputs": [
        {
          "output_type": "stream",
          "text": [
            "Size of the array:  10\n"
          ],
          "name": "stdout"
        }
      ]
    },
    {
      "cell_type": "markdown",
      "metadata": {
        "id": "AzMlQj1MoAVe"
      },
      "source": [
        "5. Print the type of the previous array in question 3"
      ]
    },
    {
      "cell_type": "code",
      "metadata": {
        "id": "AO9PYmdWoE1L",
        "colab": {
          "base_uri": "https://localhost:8080/"
        },
        "outputId": "de563f3b-0ea7-4b2d-9ddc-6bc779442f95"
      },
      "source": [
        "print(Vec10To49)"
      ],
      "execution_count": null,
      "outputs": [
        {
          "output_type": "stream",
          "text": [
            "[0 1 2 3 4 5 6 7 8 9]\n"
          ],
          "name": "stdout"
        }
      ]
    },
    {
      "cell_type": "markdown",
      "metadata": {
        "id": "0qaKS13Yon-U"
      },
      "source": [
        "6. Print the numpy version and the configuration\n"
      ]
    },
    {
      "cell_type": "code",
      "metadata": {
        "id": "T3wY24e1oorh",
        "colab": {
          "base_uri": "https://localhost:8080/"
        },
        "outputId": "2a58cc7e-74b6-49ed-e018-62f8b2f63107"
      },
      "source": [
        "print(np.__version__)\n",
        "print(np.show_config())"
      ],
      "execution_count": null,
      "outputs": [
        {
          "output_type": "stream",
          "text": [
            "1.19.4\n",
            "blas_mkl_info:\n",
            "  NOT AVAILABLE\n",
            "blis_info:\n",
            "  NOT AVAILABLE\n",
            "openblas_info:\n",
            "    libraries = ['openblas', 'openblas']\n",
            "    library_dirs = ['/usr/local/lib']\n",
            "    language = c\n",
            "    define_macros = [('HAVE_CBLAS', None)]\n",
            "blas_opt_info:\n",
            "    libraries = ['openblas', 'openblas']\n",
            "    library_dirs = ['/usr/local/lib']\n",
            "    language = c\n",
            "    define_macros = [('HAVE_CBLAS', None)]\n",
            "lapack_mkl_info:\n",
            "  NOT AVAILABLE\n",
            "openblas_lapack_info:\n",
            "    libraries = ['openblas', 'openblas']\n",
            "    library_dirs = ['/usr/local/lib']\n",
            "    language = c\n",
            "    define_macros = [('HAVE_CBLAS', None)]\n",
            "lapack_opt_info:\n",
            "    libraries = ['openblas', 'openblas']\n",
            "    library_dirs = ['/usr/local/lib']\n",
            "    language = c\n",
            "    define_macros = [('HAVE_CBLAS', None)]\n",
            "None\n"
          ],
          "name": "stdout"
        }
      ]
    },
    {
      "cell_type": "markdown",
      "metadata": {
        "id": "ZyUUiQf5oyvE"
      },
      "source": [
        "7. Print the dimension of the array in question 3\n"
      ]
    },
    {
      "cell_type": "code",
      "metadata": {
        "id": "pLXfuIqIo0vq",
        "colab": {
          "base_uri": "https://localhost:8080/"
        },
        "outputId": "5b5454f1-c4ba-4947-a27a-72ce4f44d21a"
      },
      "source": [
        "print(Vec10To49.ndim)"
      ],
      "execution_count": null,
      "outputs": [
        {
          "output_type": "stream",
          "text": [
            "1\n"
          ],
          "name": "stdout"
        }
      ]
    },
    {
      "cell_type": "markdown",
      "metadata": {
        "id": "JYVMuFrqpBdV"
      },
      "source": [
        "8. Create a boolean array with all the True values"
      ]
    },
    {
      "cell_type": "code",
      "metadata": {
        "id": "3apZsISzpFKR",
        "colab": {
          "base_uri": "https://localhost:8080/"
        },
        "outputId": "d91513d3-8ee9-4f2c-9573-9e09472d842b"
      },
      "source": [
        "MyboolArray=np.ones((1, 4), dtype=bool)\r\n",
        "print(MyboolArray)"
      ],
      "execution_count": null,
      "outputs": [
        {
          "output_type": "stream",
          "text": [
            "[[ True  True  True  True]]\n"
          ],
          "name": "stdout"
        }
      ]
    },
    {
      "cell_type": "markdown",
      "metadata": {
        "id": "4zbBooWZpPBU"
      },
      "source": [
        "9. Create a two dimensional array\n",
        "\n",
        "\n"
      ]
    },
    {
      "cell_type": "code",
      "metadata": {
        "id": "KfPQEiVIpdTo",
        "colab": {
          "base_uri": "https://localhost:8080/"
        },
        "outputId": "5cdfc434-7b40-4846-d47b-854eb0991fb8"
      },
      "source": [
        "My2DArray= np.random.randn(2, 3)\r\n",
        "print(My2DArray)"
      ],
      "execution_count": null,
      "outputs": [
        {
          "output_type": "stream",
          "text": [
            "[[-0.30690298 -1.51553447  0.47116515]\n",
            " [ 0.78435    -1.20697097  2.28471088]]\n"
          ],
          "name": "stdout"
        }
      ]
    },
    {
      "cell_type": "markdown",
      "metadata": {
        "id": "do9wPAFbpqC7"
      },
      "source": [
        "10. Create a three dimensional array\n",
        "\n"
      ]
    },
    {
      "cell_type": "code",
      "metadata": {
        "id": "ZCO_q-KZqAeW",
        "colab": {
          "base_uri": "https://localhost:8080/"
        },
        "outputId": "8942c995-1be7-4317-8c5a-401aad7a8bc4"
      },
      "source": [
        "My3DArray= np.random.randn(2, 3,5)\r\n",
        "print(My3DArray)"
      ],
      "execution_count": null,
      "outputs": [
        {
          "output_type": "stream",
          "text": [
            "[[[-0.15442241 -0.06040139  1.07567847  1.33366131 -0.18524168]\n",
            "  [ 1.30147761 -0.67066602 -0.12208098  0.20340468 -0.54033262]\n",
            "  [ 0.02073007  1.04746788  0.73623434  0.99235128 -0.38141186]]\n",
            "\n",
            " [[ 0.19204934  0.62653641  0.31419033  1.34580697 -0.16460668]\n",
            "  [ 0.37231083 -0.85668265 -0.08233973  2.22948354  1.37811682]\n",
            "  [-0.12421453  1.57573492  0.13567025  1.79283552 -0.33574119]]]\n"
          ],
          "name": "stdout"
        }
      ]
    },
    {
      "cell_type": "markdown",
      "metadata": {
        "id": "a4iysJ87qEeb"
      },
      "source": [
        "Difficulty Level **Easy**"
      ]
    },
    {
      "cell_type": "markdown",
      "metadata": {
        "id": "DehgqszSqjY6"
      },
      "source": [
        "11. Reverse a vector (first element becomes last)"
      ]
    },
    {
      "cell_type": "code",
      "metadata": {
        "id": "tfevmc4VqkWu",
        "colab": {
          "base_uri": "https://localhost:8080/",
          "height": 180
        },
        "outputId": "3d143b31-8f2d-4d6b-d56c-6470c2750ec3"
      },
      "source": [
        "d= np.array([1,2,3,4,5,6])\r\n",
        "print(d.flip())"
      ],
      "execution_count": 4,
      "outputs": [
        {
          "output_type": "error",
          "ename": "AttributeError",
          "evalue": "ignored",
          "traceback": [
            "\u001b[0;31m---------------------------------------------------------------------------\u001b[0m",
            "\u001b[0;31mAttributeError\u001b[0m                            Traceback (most recent call last)",
            "\u001b[0;32m<ipython-input-4-1655842f7e97>\u001b[0m in \u001b[0;36m<module>\u001b[0;34m()\u001b[0m\n\u001b[1;32m      1\u001b[0m \u001b[0md\u001b[0m\u001b[0;34m=\u001b[0m \u001b[0mnp\u001b[0m\u001b[0;34m.\u001b[0m\u001b[0marray\u001b[0m\u001b[0;34m(\u001b[0m\u001b[0;34m[\u001b[0m\u001b[0;36m1\u001b[0m\u001b[0;34m,\u001b[0m\u001b[0;36m2\u001b[0m\u001b[0;34m,\u001b[0m\u001b[0;36m3\u001b[0m\u001b[0;34m,\u001b[0m\u001b[0;36m4\u001b[0m\u001b[0;34m,\u001b[0m\u001b[0;36m5\u001b[0m\u001b[0;34m,\u001b[0m\u001b[0;36m6\u001b[0m\u001b[0;34m]\u001b[0m\u001b[0;34m)\u001b[0m\u001b[0;34m\u001b[0m\u001b[0;34m\u001b[0m\u001b[0m\n\u001b[0;32m----> 2\u001b[0;31m \u001b[0mprint\u001b[0m\u001b[0;34m(\u001b[0m\u001b[0md\u001b[0m\u001b[0;34m.\u001b[0m\u001b[0mflip\u001b[0m\u001b[0;34m(\u001b[0m\u001b[0;34m)\u001b[0m\u001b[0;34m)\u001b[0m\u001b[0;34m\u001b[0m\u001b[0;34m\u001b[0m\u001b[0m\n\u001b[0m",
            "\u001b[0;31mAttributeError\u001b[0m: 'numpy.ndarray' object has no attribute 'flip'"
          ]
        }
      ]
    },
    {
      "cell_type": "markdown",
      "metadata": {
        "id": "yoATXS-qqk_q"
      },
      "source": [
        "12. Create a null vector of size 10 but the fifth value which is 1 "
      ]
    },
    {
      "cell_type": "code",
      "metadata": {
        "id": "AheZ32Owqpte",
        "colab": {
          "base_uri": "https://localhost:8080/"
        },
        "outputId": "9f7f9f93-bb7d-4ca0-fe6c-9c24648cf4d9"
      },
      "source": [
        "NArray=np.empty(10)\r\n",
        "NArray[4]=1\r\n",
        "\r\n",
        "print(NArray)"
      ],
      "execution_count": null,
      "outputs": [
        {
          "output_type": "stream",
          "text": [
            "[0. 0. 0. 0. 1. 0. 0. 0. 0. 0.]\n"
          ],
          "name": "stdout"
        }
      ]
    },
    {
      "cell_type": "markdown",
      "metadata": {
        "id": "RZRzOBbFsY0w"
      },
      "source": [
        "13. Create a 3x3 identity matrix"
      ]
    },
    {
      "cell_type": "code",
      "metadata": {
        "id": "va2ou0BHsvEj",
        "colab": {
          "base_uri": "https://localhost:8080/"
        },
        "outputId": "ea7c82b7-31a2-445d-aad2-9b12e94867d1"
      },
      "source": [
        "Identity3d =np.identity(3)\r\n",
        "print(Identity3d)\r\n"
      ],
      "execution_count": null,
      "outputs": [
        {
          "output_type": "stream",
          "text": [
            "[[1. 0. 0.]\n",
            " [0. 1. 0.]\n",
            " [0. 0. 1.]]\n"
          ],
          "name": "stdout"
        }
      ]
    },
    {
      "cell_type": "markdown",
      "metadata": {
        "id": "lnN5drkUs6o2"
      },
      "source": [
        "14. arr = np.array([1, 2, 3, 4, 5]) \n",
        "\n",
        "---\n",
        "\n",
        " Convert the data type of the given array from int to float "
      ]
    },
    {
      "cell_type": "code",
      "metadata": {
        "id": "59EIQt6otKUB",
        "colab": {
          "base_uri": "https://localhost:8080/"
        },
        "outputId": "957b6aa3-d085-4620-ae5d-77809da885d1"
      },
      "source": [
        "arr = np.array([1, 2, 3, 4, 5], dtype=float)\r\n",
        "print(arr)"
      ],
      "execution_count": null,
      "outputs": [
        {
          "output_type": "stream",
          "text": [
            "[1. 2. 3. 4. 5.]\n"
          ],
          "name": "stdout"
        }
      ]
    },
    {
      "cell_type": "markdown",
      "metadata": {
        "id": "fSL2AKJetTes"
      },
      "source": [
        "15. arr1 =          np.array([[1., 2., 3.],\n",
        "\n",
        "                    [4., 5., 6.]])  \n",
        "                      \n",
        "    arr2 = np.array([[0., 4., 1.],\n",
        "     \n",
        "                   [7., 2., 12.]])\n",
        "\n",
        "---\n",
        "\n",
        "\n",
        "Multiply arr1 with arr2\n"
      ]
    },
    {
      "cell_type": "code",
      "metadata": {
        "id": "7VDXgRQDuJNV",
        "colab": {
          "base_uri": "https://localhost:8080/"
        },
        "outputId": "91dbf21a-5f82-4ea1-9060-c577d17284b0"
      },
      "source": [
        "arr1 = np.array([[1., 2., 3.], [4., 5., 6.]])\r\n",
        "arr2 = np.array([[0., 4., 1.], [7., 2., 12.]])\r\n",
        "print(arr1*arr2)"
      ],
      "execution_count": null,
      "outputs": [
        {
          "output_type": "stream",
          "text": [
            "[[ 0.  8.  3.]\n",
            " [28. 10. 72.]]\n"
          ],
          "name": "stdout"
        }
      ]
    },
    {
      "cell_type": "markdown",
      "metadata": {
        "id": "a8yJ438-uKni"
      },
      "source": [
        "16. arr1 = np.array([[1., 2., 3.],\n",
        "                    [4., 5., 6.]]) \n",
        "                    \n",
        "    arr2 = np.array([[0., 4., 1.], \n",
        "                    [7., 2., 12.]])\n",
        "\n",
        "\n",
        "---\n",
        "\n",
        "Make an array by comparing both the arrays provided above"
      ]
    },
    {
      "cell_type": "code",
      "metadata": {
        "id": "3MPDaAlYueF3",
        "colab": {
          "base_uri": "https://localhost:8080/"
        },
        "outputId": "4cca7ef5-58ec-4aa4-d294-418486632325"
      },
      "source": [
        "arr1 = np.array([[1., 2., 3.],[4., 5., 6.]]) \r\n",
        "arr2 = np.array([[0., 4., 1.],[7., 2., 12.]])\r\n",
        "print(arr2-arr1)"
      ],
      "execution_count": null,
      "outputs": [
        {
          "output_type": "stream",
          "text": [
            "[[-1.  2. -2.]\n",
            " [ 3. -3.  6.]]\n"
          ],
          "name": "stdout"
        }
      ]
    },
    {
      "cell_type": "markdown",
      "metadata": {
        "id": "3xiD0eJluewk"
      },
      "source": [
        "17. Extract all odd numbers from arr with values(0-9)"
      ]
    },
    {
      "cell_type": "code",
      "metadata": {
        "id": "J_qbt_EuvM7l",
        "colab": {
          "base_uri": "https://localhost:8080/"
        },
        "outputId": "60dbaee6-7b7b-4bcb-d107-f898a952b849"
      },
      "source": [
        "NumArray=np.arange(10)\r\n",
        "print(NumArray)\r\n",
        "for i in range(10):\r\n",
        "  if(NumArray[i]%2!=0):\r\n",
        "    print(NumArray[i])"
      ],
      "execution_count": null,
      "outputs": [
        {
          "output_type": "stream",
          "text": [
            "[0 1 2 3 4 5 6 7 8 9]\n",
            "1\n",
            "3\n",
            "5\n",
            "7\n",
            "9\n"
          ],
          "name": "stdout"
        }
      ]
    },
    {
      "cell_type": "markdown",
      "metadata": {
        "id": "zpg5cyLsvPoZ"
      },
      "source": [
        "18. Replace all odd numbers to -1 from previous array"
      ]
    },
    {
      "cell_type": "code",
      "metadata": {
        "id": "rXUV1-ULvQdd",
        "colab": {
          "base_uri": "https://localhost:8080/"
        },
        "outputId": "e4deb084-7924-4a3c-cf7c-5da16d6991f2"
      },
      "source": [
        "NumArray=np.arange(10)\r\n",
        "print(NumArray)\r\n",
        "for i in range(10):\r\n",
        "  if(NumArray[i]%2!=0):\r\n",
        "    NumArray[i]=-1\r\n",
        "print(NumArray)"
      ],
      "execution_count": null,
      "outputs": [
        {
          "output_type": "stream",
          "text": [
            "[0 1 2 3 4 5 6 7 8 9]\n",
            "[ 0 -1  2 -1  4 -1  6 -1  8 -1]\n"
          ],
          "name": "stdout"
        }
      ]
    },
    {
      "cell_type": "markdown",
      "metadata": {
        "id": "FWpHTWTDvjvi"
      },
      "source": [
        "19. arr = np.arange(10)\n",
        "\n",
        "\n",
        "---\n",
        "\n",
        "Replace the values of indexes 5,6,7 and 8 to **12**"
      ]
    },
    {
      "cell_type": "code",
      "metadata": {
        "id": "ensZ3lqwvlSb",
        "colab": {
          "base_uri": "https://localhost:8080/"
        },
        "outputId": "d2777862-f054-4054-dcfd-a216f4847daa"
      },
      "source": [
        "arr = np.arange(10)\r\n",
        "arr[5]=arr[6]=arr[7]=arr[8]=12\r\n",
        "print(arr)\r\n"
      ],
      "execution_count": null,
      "outputs": [
        {
          "output_type": "stream",
          "text": [
            "[ 0  1  2  3  4 12 12 12 12  9]\n"
          ],
          "name": "stdout"
        }
      ]
    },
    {
      "cell_type": "markdown",
      "metadata": {
        "id": "ib-vBffAv0zy"
      },
      "source": [
        "20. Create a 2d array with 1 on the border and 0 inside"
      ]
    },
    {
      "cell_type": "code",
      "metadata": {
        "id": "RmzcjNYrwDrM"
      },
      "source": [
        ""
      ],
      "execution_count": null,
      "outputs": []
    },
    {
      "cell_type": "markdown",
      "metadata": {
        "id": "E1diIFSEwEmh"
      },
      "source": [
        "Difficulty Level **Medium**"
      ]
    },
    {
      "cell_type": "markdown",
      "metadata": {
        "id": "eGLZmNb_wKb4"
      },
      "source": [
        "21. arr2d = np.array([[1, 2, 3],\n",
        "\n",
        "                    [4, 5, 6], \n",
        "\n",
        "                    [7, 8, 9]])\n",
        "\n",
        "---\n",
        "\n",
        "Replace the value 5 to 12"
      ]
    },
    {
      "cell_type": "code",
      "metadata": {
        "id": "VdUnsUOZwJFz",
        "colab": {
          "base_uri": "https://localhost:8080/"
        },
        "outputId": "b291afda-35fb-4296-a768-7c15671d58ae"
      },
      "source": [
        "arr2d = np.array([[1, 2, 3],[4, 5, 6],[7, 8, 9]])\r\n",
        "print(np.where(arr2d==5, 12, arr2d)) \r\n"
      ],
      "execution_count": 9,
      "outputs": [
        {
          "output_type": "stream",
          "text": [
            "[[ 1  2  3]\n",
            " [ 4 12  6]\n",
            " [ 7  8  9]]\n",
            "[[1 2 3]\n",
            " [4 5 6]\n",
            " [7 8 9]]\n"
          ],
          "name": "stdout"
        }
      ]
    },
    {
      "cell_type": "markdown",
      "metadata": {
        "id": "TEbFhlPZxaKO"
      },
      "source": [
        "22. arr3d = np.array([[[1, 2, 3], [4, 5, 6]], [[7, 8, 9], [10, 11, 12]]])\n",
        "\n",
        "---\n",
        "Convert all the values of 1st array to 64\n"
      ]
    },
    {
      "cell_type": "code",
      "metadata": {
        "id": "eYzephU8xmsg",
        "colab": {
          "base_uri": "https://localhost:8080/"
        },
        "outputId": "c0d66573-21c3-425d-9aea-f5569a651091"
      },
      "source": [
        "arr3d = np.array([[[1, 2, 3], [4, 5, 6]], [[7, 8, 9], [10, 11, 12]]])\r\n",
        "\r\n",
        "print(np.where(arr3d>=0, 64, arr3d)) "
      ],
      "execution_count": 11,
      "outputs": [
        {
          "output_type": "stream",
          "text": [
            "[[[64 64 64]\n",
            "  [64 64 64]]\n",
            "\n",
            " [[64 64 64]\n",
            "  [64 64 64]]]\n",
            "[[[ 1  2  3]\n",
            "  [ 4  5  6]]\n",
            "\n",
            " [[ 7  8  9]\n",
            "  [10 11 12]]]\n"
          ],
          "name": "stdout"
        }
      ]
    },
    {
      "cell_type": "markdown",
      "metadata": {
        "id": "vZj0Ndvnx6f0"
      },
      "source": [
        "23. Make a 2-Dimensional array with values 0-9 and slice out the first 1st 1-D array from it"
      ]
    },
    {
      "cell_type": "code",
      "metadata": {
        "id": "pM4e9YfdyHSv",
        "colab": {
          "base_uri": "https://localhost:8080/"
        },
        "outputId": "97455dd7-3435-4522-e508-b82633268c1a"
      },
      "source": [
        "Array2D=np.arange(0,9,1).reshape(3,3)\r\n",
        "print(Array2D)\r\n",
        "FirstRow=(Array2D[0,:3 ])\r\n",
        "print(FirstRow)"
      ],
      "execution_count": 33,
      "outputs": [
        {
          "output_type": "stream",
          "text": [
            "[[0 1 2]\n",
            " [3 4 5]\n",
            " [6 7 8]]\n",
            "[0 1 2]\n"
          ],
          "name": "stdout"
        }
      ]
    },
    {
      "cell_type": "markdown",
      "metadata": {
        "id": "C3dkW0lZyVps"
      },
      "source": [
        "24. Make a 2-Dimensional array with values 0-9 and slice out the 2nd value from 2nd 1-D array from it"
      ]
    },
    {
      "cell_type": "code",
      "metadata": {
        "id": "IrrzK2xgygqV",
        "colab": {
          "base_uri": "https://localhost:8080/"
        },
        "outputId": "6ae5914c-c229-4837-b8f7-ba355dde35b3"
      },
      "source": [
        "Array2D=np.arange(0,9,1).reshape(3,3)\r\n",
        "print(Array2D)\r\n",
        "Second2nd=(Array2D[1,1])\r\n",
        "print(Second2nd)"
      ],
      "execution_count": 37,
      "outputs": [
        {
          "output_type": "stream",
          "text": [
            "[[0 1 2]\n",
            " [3 4 5]\n",
            " [6 7 8]]\n",
            "4\n"
          ],
          "name": "stdout"
        }
      ]
    },
    {
      "cell_type": "markdown",
      "metadata": {
        "id": "G3dLwOO9yyrE"
      },
      "source": [
        "25. Make a 2-Dimensional array with values 0-9 and slice out the third column but only the first two rows"
      ]
    },
    {
      "cell_type": "code",
      "metadata": {
        "id": "5Bx4fqsLyqGD",
        "colab": {
          "base_uri": "https://localhost:8080/"
        },
        "outputId": "2d217713-279b-4baf-aee9-e9ad11df8024"
      },
      "source": [
        "Array2D=np.arange(0,9,1).reshape(3,3)\r\n",
        "print(Array2D)\r\n",
        "ThridCol2Val=(Array2D[0:2, 2])\r\n",
        "print(ThridCol2Val)"
      ],
      "execution_count": 25,
      "outputs": [
        {
          "output_type": "stream",
          "text": [
            "[[0 1 2]\n",
            " [3 4 5]\n",
            " [6 7 8]]\n",
            "[2 5]\n"
          ],
          "name": "stdout"
        }
      ]
    },
    {
      "cell_type": "markdown",
      "metadata": {
        "id": "CQ9YST5jy0IL"
      },
      "source": [
        "26. Create a 10x10 array with random values and find the minimum and maximum \r\n",
        "\r\n",
        "---\r\n",
        "\r\n",
        "values"
      ]
    },
    {
      "cell_type": "code",
      "metadata": {
        "id": "lhJPugjQzG6W",
        "colab": {
          "base_uri": "https://localhost:8080/"
        },
        "outputId": "77d39206-83e3-413a-e9eb-d0984511ddc9"
      },
      "source": [
        "Ten10Arr = np.random.randint(100, size=(10, 10))\r\n",
        "print(Ten10Arr)\r\n",
        "print(np.min(Ten10Arr))\r\n",
        "print(np.max(Ten10Arr))\r\n"
      ],
      "execution_count": 45,
      "outputs": [
        {
          "output_type": "stream",
          "text": [
            "[[13 57 38 74 10 63  2 71 54 77]\n",
            " [90  6 17 23 15 95 64 41 22 86]\n",
            " [96 92 17 36 39 22 42 38 96  3]\n",
            " [73 86 46 93 88 79  8 12 81 76]\n",
            " [ 6 97 50 31 44 92 18 52 94 31]\n",
            " [14 65 67 36  1 34 86  7 22 94]\n",
            " [81 45  5 40 71 71 37 74 68 68]\n",
            " [39  1 11 57 19 47 80 60 71 73]\n",
            " [53 78 68 61 52 71 87 84 93 80]\n",
            " [83 35 49 15 32 91 28  6 84  6]]\n",
            "1\n",
            "97\n"
          ],
          "name": "stdout"
        }
      ]
    },
    {
      "cell_type": "markdown",
      "metadata": {
        "id": "cAgDt6KazHk6"
      },
      "source": [
        "27. a = np.array([1,2,3,2,3,4,3,4,5,6]) b = np.array([7,2,10,2,7,4,9,4,9,8])\n",
        "---\n",
        "Find the common items between a and b\n"
      ]
    },
    {
      "cell_type": "code",
      "metadata": {
        "id": "kBXZanxIzs_F",
        "colab": {
          "base_uri": "https://localhost:8080/"
        },
        "outputId": "56bb5045-53e3-447d-b777-937183334f67"
      },
      "source": [
        "a = np.array([1,2,3,2,3,4,3,4,5,6]) \r\n",
        "b = np.array([7,2,10,2,7,4,9,4,9,8])\r\n",
        "print(np.intersect1d(a,b))\r\n"
      ],
      "execution_count": 54,
      "outputs": [
        {
          "output_type": "stream",
          "text": [
            "[2 4]\n"
          ],
          "name": "stdout"
        }
      ]
    },
    {
      "cell_type": "markdown",
      "metadata": {
        "id": "lF9IzWOAztpD"
      },
      "source": [
        "28. a = np.array([1,2,3,2,3,4,3,4,5,6])\n",
        "b = np.array([7,2,10,2,7,4,9,4,9,8])\n",
        "\n",
        "---\n",
        "Find the positions where elements of a and b match\n",
        "\n"
      ]
    },
    {
      "cell_type": "code",
      "metadata": {
        "id": "JR-mHQLH0HY_",
        "colab": {
          "base_uri": "https://localhost:8080/"
        },
        "outputId": "d9b37826-03c0-4aa7-ecae-6bb3046a7db8"
      },
      "source": [
        "a = np.array([1,2,3,2,3,4,3,4,5,6]) \r\n",
        "b = np.array([7,2,10,2,7,4,9,4,9,8])\r\n",
        "print([key for key, val in enumerate(a) if val in set(b)])\r\n"
      ],
      "execution_count": 60,
      "outputs": [
        {
          "output_type": "stream",
          "text": [
            "[1, 3, 5, 7]\n"
          ],
          "name": "stdout"
        }
      ]
    },
    {
      "cell_type": "markdown",
      "metadata": {
        "id": "mMDiefpH0H1x"
      },
      "source": [
        "29.  names = np.array(['Bob', 'Joe', 'Will', 'Bob', 'Will', 'Joe', 'Joe'])  data = np.random.randn(7, 4)\n",
        "\n",
        "---\n",
        "Find all the values from array **data** where the values from array **names** are not equal to **Will**\n"
      ]
    },
    {
      "cell_type": "code",
      "metadata": {
        "id": "gfc1Lpf81ZSR",
        "colab": {
          "base_uri": "https://localhost:8080/"
        },
        "outputId": "e9a0c893-8592-4878-dfc0-0437ee66f173"
      },
      "source": [
        "names = np.array(['Bob', 'Joe', 'Will', 'Bob', 'Will', 'Joe', 'Joe']) \r\n",
        "data = np.random.randn(7, 4)\r\n",
        "print(\"Indeces where name is not Will : \", np.where(names!=\"Will\"))\r\n",
        "\r\n",
        "print(\"Values : \",names[np.where(names!=\"Will\")])\r\n"
      ],
      "execution_count": 67,
      "outputs": [
        {
          "output_type": "stream",
          "text": [
            "Indeces where name is not Will :  (array([0, 1, 3, 5, 6]),)\n",
            "Values :  ['Bob' 'Joe' 'Bob' 'Joe' 'Joe']\n"
          ],
          "name": "stdout"
        }
      ]
    },
    {
      "cell_type": "markdown",
      "metadata": {
        "id": "52zEjDMf1aXS"
      },
      "source": [
        "30. names = np.array(['Bob', 'Joe', 'Will', 'Bob', 'Will', 'Joe', 'Joe']) data = np.random.randn(7, 4)\n",
        "\n",
        "---\n",
        "Find all the values from array **data** where the values from array **names** are not equal to **Will** and **Joe**\n",
        "\n"
      ]
    },
    {
      "cell_type": "code",
      "metadata": {
        "id": "8RYG0kLO1mHw",
        "colab": {
          "base_uri": "https://localhost:8080/"
        },
        "outputId": "eedc1d04-76f3-4428-bb80-78ae0d2b4a62"
      },
      "source": [
        "names2 = np.array(['Bob', 'Joe', 'Will', 'Bob', 'Will', 'Joe', 'Joe']) \r\n",
        "data = np.random.randn(7, 4)\r\n",
        "print(\"Indeces where name is not Will : \", np.where((names2!=\"Will\")&( names2!=\"Joe\"))[0])\r\n",
        "\r\n",
        "print(\"Values : \",names[np.where((names2!=\"Will\")&( names2!=\"Joe\"))[0]])\r\n"
      ],
      "execution_count": 76,
      "outputs": [
        {
          "output_type": "stream",
          "text": [
            "Indeces where name is not Will :  [0 3]\n",
            "Values :  ['Bob' 'Bob']\n"
          ],
          "name": "stdout"
        }
      ]
    },
    {
      "cell_type": "markdown",
      "metadata": {
        "id": "Q7hjf2bd2dCY"
      },
      "source": [
        "Difficulty Level **Hard**"
      ]
    },
    {
      "cell_type": "markdown",
      "metadata": {
        "id": "b48g7aRA2jVM"
      },
      "source": [
        "31. Create a 2D array of shape 5x3 to contain decimal numbers between 1 and 15."
      ]
    },
    {
      "cell_type": "code",
      "metadata": {
        "id": "EbwfSCrW2f9_",
        "colab": {
          "base_uri": "https://localhost:8080/"
        },
        "outputId": "40e5bda2-8d53-41c7-ee43-d90c0c2f6564"
      },
      "source": [
        "TwoDArray = np.array(range(1,16), dtype=np.float64).reshape(5,3)\r\n",
        "print(TwoDArray)"
      ],
      "execution_count": 88,
      "outputs": [
        {
          "output_type": "stream",
          "text": [
            "[[ 1.  2.  3.]\n",
            " [ 4.  5.  6.]\n",
            " [ 7.  8.  9.]\n",
            " [10. 11. 12.]\n",
            " [13. 14. 15.]]\n"
          ],
          "name": "stdout"
        }
      ]
    },
    {
      "cell_type": "markdown",
      "metadata": {
        "id": "Ei_nDHtO3qBk"
      },
      "source": [
        "\r\n",
        "32. Create an array of shape (2, 2, 4) with decimal numbers between 1 to 16."
      ]
    },
    {
      "cell_type": "code",
      "metadata": {
        "id": "phOxVpBM4M6D",
        "colab": {
          "base_uri": "https://localhost:8080/"
        },
        "outputId": "e9e559d8-34f7-4891-88dd-63fb9361bc1c"
      },
      "source": [
        "ThreeDArray = np.array(range(1,17), dtype=np.float64).reshape(2,2,4)\r\n",
        "print(ThreeDArray)"
      ],
      "execution_count": 91,
      "outputs": [
        {
          "output_type": "stream",
          "text": [
            "[[[ 1.  2.  3.  4.]\n",
            "  [ 5.  6.  7.  8.]]\n",
            "\n",
            " [[ 9. 10. 11. 12.]\n",
            "  [13. 14. 15. 16.]]]\n"
          ],
          "name": "stdout"
        }
      ]
    },
    {
      "cell_type": "markdown",
      "metadata": {
        "id": "uyiQaMjA4d_x"
      },
      "source": [
        "33. Swap axes of the array you created in Question 32"
      ]
    },
    {
      "cell_type": "code",
      "metadata": {
        "id": "w2m9p8064VtR",
        "colab": {
          "base_uri": "https://localhost:8080/"
        },
        "outputId": "a596b5db-d026-49d9-93dc-331afb153fe1"
      },
      "source": [
        "ThreeDArray.reshape(4,2,2)"
      ],
      "execution_count": 92,
      "outputs": [
        {
          "output_type": "execute_result",
          "data": {
            "text/plain": [
              "array([[[ 1.,  2.],\n",
              "        [ 3.,  4.]],\n",
              "\n",
              "       [[ 5.,  6.],\n",
              "        [ 7.,  8.]],\n",
              "\n",
              "       [[ 9., 10.],\n",
              "        [11., 12.]],\n",
              "\n",
              "       [[13., 14.],\n",
              "        [15., 16.]]])"
            ]
          },
          "metadata": {
            "tags": []
          },
          "execution_count": 92
        }
      ]
    },
    {
      "cell_type": "markdown",
      "metadata": {
        "id": "2dlU_yUR4mVZ"
      },
      "source": [
        "34. Create an array of size 10, and find the square root of every element in the array, if the values less than 0.5, replace them with 0"
      ]
    },
    {
      "cell_type": "code",
      "metadata": {
        "id": "tmBabEJ-5JgB",
        "colab": {
          "base_uri": "https://localhost:8080/"
        },
        "outputId": "a4108cc2-e85f-4b74-9272-e4871f877802"
      },
      "source": [
        "\r\n",
        "SQARTArray = np.sqrt(abs(np.random.randn(10)))\r\n",
        "print(SQARTArray)\r\n",
        "RemoveingLessThanHalf=np.where(SQARTArray<0.5,0,SQARTArray)\r\n",
        "print(RemoveingLessThanHalf)"
      ],
      "execution_count": 99,
      "outputs": [
        {
          "output_type": "stream",
          "text": [
            "[1.2089942  1.42233091 0.39295055 0.57048281 0.44828839 0.67700128\n",
            " 0.43595954 0.61176526 1.15112597 1.0019092 ]\n",
            "[1.2089942  1.42233091 0.         0.57048281 0.         0.67700128\n",
            " 0.         0.61176526 1.15112597 1.0019092 ]\n"
          ],
          "name": "stdout"
        }
      ]
    },
    {
      "cell_type": "markdown",
      "metadata": {
        "id": "SNAM4dpu5RKA"
      },
      "source": [
        "35. Create two random arrays of range 12 and make an array with the maximum values between each element of the two arrays"
      ]
    },
    {
      "cell_type": "code",
      "metadata": {
        "id": "3pxebU2b5q9Z",
        "colab": {
          "base_uri": "https://localhost:8080/"
        },
        "outputId": "32c4eab7-1dc5-4773-98f7-2c523f8780d0"
      },
      "source": [
        "RandomArray1=np.random.randint(12, size=(1, 12))[0]\r\n",
        "RandomArray2=np.random.randint(12, size=(1, 12))[0]\r\n",
        "MaxArr=np.maximum(RandomArray1,RandomArray2)\r\n",
        "\r\n",
        "print(\"Array1 :\",RandomArray1)\r\n",
        "print(\"Array2 :\",RandomArray2)\r\n",
        "print(\"Maximum of two:\", MaxArr)\r\n"
      ],
      "execution_count": 128,
      "outputs": [
        {
          "output_type": "stream",
          "text": [
            "Array1 : [1 5 5 4 3 3 5 8 9 2 9 6]\n",
            "Array2 : [ 7  3  2  5  1  4  4  8  1  8 10  7]\n",
            "Maximum of two: [ 7  5  5  5  3  4  5  8  9  8 10  7]\n"
          ],
          "name": "stdout"
        }
      ]
    },
    {
      "cell_type": "markdown",
      "metadata": {
        "id": "fz_bpqm28qmD"
      },
      "source": [
        "36. names = np.array(['Bob', 'Joe', 'Will', 'Bob', 'Will', 'Joe', 'Joe'])\n",
        "Find the unique names and sort them out!\n"
      ]
    },
    {
      "cell_type": "code",
      "metadata": {
        "id": "hiSNMgcY87Ey",
        "colab": {
          "base_uri": "https://localhost:8080/"
        },
        "outputId": "10c9205e-e533-4bfe-b3db-f7f60d7a14ca"
      },
      "source": [
        "names = np.array(['Bob', 'Joe', 'Will', 'Bob', 'Will', 'Joe', 'Joe'])\r\n",
        "print(np.sort(np.unique(names)))"
      ],
      "execution_count": 132,
      "outputs": [
        {
          "output_type": "stream",
          "text": [
            "['Bob' 'Joe' 'Will']\n"
          ],
          "name": "stdout"
        }
      ]
    },
    {
      "cell_type": "markdown",
      "metadata": {
        "id": "dguMNzob870H"
      },
      "source": [
        "37. a = np.array([1,2,3,4,5])\n",
        "b = np.array([5,6,7,8,9])\n",
        "\n",
        "---\n",
        "From array a remove all items present in array b\n",
        "\n"
      ]
    },
    {
      "cell_type": "code",
      "metadata": {
        "id": "eCNJXPvK9IAr",
        "colab": {
          "base_uri": "https://localhost:8080/"
        },
        "outputId": "e6675f0f-0031-4f38-f2e4-2706663d16a0"
      },
      "source": [
        "from collections import Counter\r\n",
        "\r\n",
        "a = np.array([1,2,3,4,5])\r\n",
        "b = np.array([5,6,7,8,9])\r\n",
        "\r\n",
        "ca = Counter(a)\r\n",
        "cb = Counter(b)\r\n",
        "\r\n",
        "result_a = sorted((ca - cb).elements())\r\n",
        "\r\n",
        "print(result_a)\r\n"
      ],
      "execution_count": 134,
      "outputs": [
        {
          "output_type": "stream",
          "text": [
            "[1, 2, 3, 4]\n"
          ],
          "name": "stdout"
        }
      ]
    },
    {
      "cell_type": "markdown",
      "metadata": {
        "id": "gz4Dvd4b_Akh"
      },
      "source": [
        "38.  Following is the input NumPy array delete column two and insert following new column in its place.\n",
        "\n",
        "---\n",
        "sampleArray = numpy.array([[34,43,73],[82,22,12],[53,94,66]]) \n",
        "\n",
        "\n",
        "---\n",
        "\n",
        "newColumn = numpy.array([[10,10,10]])\n"
      ]
    },
    {
      "cell_type": "code",
      "metadata": {
        "id": "lLWAJWJJ_I3d",
        "colab": {
          "base_uri": "https://localhost:8080/"
        },
        "outputId": "84327f1b-913b-4ece-d321-9c468ca28c02"
      },
      "source": [
        "sampleArray = np.array([[34,43,73],[82,22,12],[53,94,66]])\r\n",
        "newColumn = np.array([[10,10,10]])\r\n",
        "for i in range(3):\r\n",
        "  sampleArray[i,1]=newColumn[0,i]\r\n",
        "\r\n",
        "print(sampleArray)\r\n",
        "\r\n"
      ],
      "execution_count": 137,
      "outputs": [
        {
          "output_type": "stream",
          "text": [
            "[[34 10 73]\n",
            " [82 10 12]\n",
            " [53 10 66]]\n"
          ],
          "name": "stdout"
        }
      ]
    },
    {
      "cell_type": "markdown",
      "metadata": {
        "id": "1lIfmbQt_J_W"
      },
      "source": [
        "39. x = np.array([[1., 2., 3.], [4., 5., 6.]]) y = np.array([[6., 23.], [-1, 7], [8, 9]])\n",
        "\n",
        "\n",
        "---\n",
        "Find the dot product of the above two matrix\n"
      ]
    },
    {
      "cell_type": "code",
      "metadata": {
        "id": "fV2-vXcR_vmu",
        "colab": {
          "base_uri": "https://localhost:8080/"
        },
        "outputId": "f5f9db27-fbce-4781-dcdd-5eabb25645c9"
      },
      "source": [
        "x = np.array([[1., 2., 3.], [4., 5., 6.]]) \r\n",
        "y = np.array([[6., 23.], [-1, 7], [8, 9]])\r\n",
        "z=x.reshape(1,6)*y.reshape(1,6)\r\n",
        "print(z)"
      ],
      "execution_count": null,
      "outputs": [
        {
          "output_type": "stream",
          "text": [
            "[[ 6. 46. -3. 28. 40. 54.]]\n"
          ],
          "name": "stdout"
        }
      ]
    },
    {
      "cell_type": "markdown",
      "metadata": {
        "id": "5U-4odUw_wP0"
      },
      "source": [
        "40. Generate a matrix of 20 random values and find its cumulative sum"
      ]
    },
    {
      "cell_type": "code",
      "metadata": {
        "id": "_oOHdiYEAF8N",
        "colab": {
          "base_uri": "https://localhost:8080/"
        },
        "outputId": "984c5383-3779-446d-a1d6-f1632f9e0ab9"
      },
      "source": [
        "Arr20 = np.random.randint(20, size=(5, 4))\r\n",
        "print(Arr20)\r\n",
        "print(\"Sum of All Numbers : \",np.sum(Arr20))"
      ],
      "execution_count": 141,
      "outputs": [
        {
          "output_type": "stream",
          "text": [
            "[[10  0 11  3]\n",
            " [18 16 17  8]\n",
            " [ 6 16  9 16]\n",
            " [ 4 17 12  5]\n",
            " [ 3 11 12  4]]\n",
            "Sum of All Numbers :  198\n"
          ],
          "name": "stdout"
        }
      ]
    }
  ]
}